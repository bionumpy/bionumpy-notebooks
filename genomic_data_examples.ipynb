{
 "cells": [
  {
   "cell_type": "code",
   "execution_count": null,
   "metadata": {
    "collapsed": true
   },
   "outputs": [],
   "source": [
    "!pip install bionumpy\n",
    "!wget https://raw.githubusercontent.com/bionumpy/bionumpy/dev/example_data/ctcf_chr21-22.bed.gz\n",
    "!wget https://raw.githubusercontent.com/bionumpy/bionumpy/dev/example_data/CTCF_chr21-22.wig.gz\n",
    "!wget https://raw.githubusercontent.com/bionumpy/bionumpy/dev/example_data/chr21-22.chrom.sizes\n",
    "!wget https://raw.githubusercontent.com/bionumpy/bionumpy/dev/example_data/ctcf_chr21-22.bam\n",
    "!wget https://raw.githubusercontent.com/bionumpy/bionumpy/dev/example_data/chr21a22.gtf\n",
    "!wget https://raw.githubusercontent.com/bionumpy/bionumpy/dev/example_data/1000Genomes_chr21-22.vcf.gz"
   ]
  },
  {
   "cell_type": "code",
   "execution_count": null,
   "outputs": [],
   "source": [
    "import plotly.express as px\n",
    "import numpy as np\n",
    "import bionumpy as bnp"
   ],
   "metadata": {
    "collapsed": false
   }
  },
  {
   "cell_type": "code",
   "execution_count": null,
   "outputs": [],
   "source": [
    "import bionumpy as bnp\n",
    "import plotly.express as px\n",
    "import numpy as np\n",
    "\n",
    "# Reading a genome and reads from a bam file\n",
    "genome = bnp.Genome.from_file(\"chr21-22.chrom.sizes\")\n",
    "reads = genome.read_intervals(\"ctcf_chr21-22.bam\")\n",
    "\n",
    "# Getting read pileup (stored efficiently as a RunLengthArray)\n",
    "pileup = reads.get_pileup()\n",
    "\n",
    "# We can index any region\n",
    "region = pileup[\"chr22\"][19970400:19970800]\n",
    "px.line(region.to_array()).show()"
   ],
   "metadata": {
    "collapsed": false
   }
  },
  {
   "cell_type": "code",
   "execution_count": null,
   "outputs": [],
   "source": [
    "# Read genome, a wig read pileup and transcripts\n",
    "genome = bnp.Genome.from_file(\"chr21-22.chrom.sizes\", sort_names=True)\n",
    "annotation = genome.read_annotation(\"chr21a22.gtf\")\n",
    "transcripts = annotation.transcripts\n",
    "\n",
    "# Get transcript start locations and make windows around them\n",
    "tss = transcripts.get_location('start').sorted() # Make sure the transcripts are sorted alphabetically\n",
    "windows = tss.get_windows(flank=500)\n",
    "\n",
    "# Get mean read pileup within these windows and plot\n",
    "track = genome.read_track(\"CTCF_chr21-22.wig.gz\", stream=True)\n",
    "signals = track[windows]\n",
    "mean_signal = signals.mean(axis=0)\n",
    "signal = bnp.compute(mean_signal)  # Compute the actual value\n",
    "\n",
    "px.line(x=np.arange(-500, 500), y=signal.to_array(),\n",
    "        title=\"Read pileup relative to TSS start\",\n",
    "        labels={\"x\": \"Position relative to TSS start\", \"y\": \"Mean read pileup\"}).show()\n"
   ],
   "metadata": {
    "collapsed": false
   }
  },
  {
   "cell_type": "code",
   "execution_count": null,
   "outputs": [],
   "source": [
    "import plotly.graph_objs as go\n",
    "\n",
    "# Read genome and peaks\n",
    "genome = bnp.Genome.from_file(\"chr21-22.chrom.sizes\").with_ignored_added(['chrEBV'])\n",
    "peaks = bnp.open(\"ctcf_chr21-22.bed.gz\", buffer_type=bnp.NarrowPeakBuffer).read()\n",
    "location_entries = bnp.LocationEntry(peaks.chromosome, peaks.start+peaks.summit)\n",
    "\n",
    "# Create locations of peaks summits\n",
    "summits = genome.get_locations(location_entries).sorted()\n",
    "\n",
    "# Create windows around summits and extract read pileup\n",
    "windows = summits.get_windows(flank=200)\n",
    "reads = genome.read_intervals(\"ctcf_chr21-22.bam\", stream=False, stranded=True)\n",
    "\n",
    "# Get mean pileup for reads with negative and positive strand\n",
    "signals_dict = {strand: reads[reads.strand == strand].get_pileup()[windows].mean(axis=0)\n",
    "                for strand in '+-'}\n",
    "signals_dict = bnp.compute(signals_dict)\n",
    "go.Figure(\n",
    "    [go.Scatter(x=np.arange(-200, 200), y=signal.to_array(), name=f'{strand} Strand')\n",
    "     for strand, signal in signals_dict.items()],\n",
    "    layout={'title': 'Summit plot',\n",
    "            'xaxis_title': 'Distance from peak summit',\n",
    "            'yaxis_title': 'Read coverage'}).show()"
   ],
   "metadata": {
    "collapsed": false
   }
  },
  {
   "cell_type": "code",
   "execution_count": null,
   "outputs": [],
   "source": [
    "# Read genome and variants\n",
    "genome = bnp.Genome.from_file(\"chr21-22.chrom.sizes\")\n",
    "variants = genome.read_locations(\"1000Genomes_chr21-22.vcf.gz\", has_numeric_chromosomes=True)\n",
    "\n",
    "# Get windows around variants and get read pileup in these windows\n",
    "flank = 100\n",
    "windows = variants.get_windows(flank=flank)\n",
    "reads = genome.read_intervals(\"ctcf_chr21-22.bam\", stream=True, stranded=True)\n",
    "track = reads.get_pileup()\n",
    "signals = track[windows]\n",
    "\n",
    "# Get mean signal inside these windows and plot\n",
    "mean_signal = signals.mean(axis=0)\n",
    "signal = bnp.compute(mean_signal)\n",
    "signal = signal.to_array()\n",
    "\n",
    "px.line(x=np.arange(-flank, flank), y=signal,\n",
    "        title=\"Read pileup relative to common variants\",\n",
    "        labels={\"x\": \"Position relative to variant location\", \"y\": \"Mean read pileup\"}).show()\n"
   ],
   "metadata": {
    "collapsed": false
   }
  },
  {
   "cell_type": "code",
   "execution_count": null,
   "outputs": [],
   "source": [],
   "metadata": {
    "collapsed": false
   }
  }
 ],
 "metadata": {
  "kernelspec": {
   "display_name": "Python 3",
   "language": "python",
   "name": "python3"
  },
  "language_info": {
   "codemirror_mode": {
    "name": "ipython",
    "version": 2
   },
   "file_extension": ".py",
   "mimetype": "text/x-python",
   "name": "python",
   "nbconvert_exporter": "python",
   "pygments_lexer": "ipython2",
   "version": "2.7.6"
  }
 },
 "nbformat": 4,
 "nbformat_minor": 0
}
