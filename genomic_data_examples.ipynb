{
 "cells": [
  {
   "cell_type": "code",
   "execution_count": null,
   "metadata": {
    "collapsed": true
   },
   "outputs": [],
   "source": [
    "!pip install bionumpy\n",
    "!wget https://raw.githubusercontent.com/bionumpy/bionumpy/dev/example_data/ctcf_chr21-22.bed.gz\n",
    "!wget https://raw.githubusercontent.com/bionumpy/bionumpy/dev/example_data/CTCF_chr21-22.wig.gz\n",
    "!wget https://raw.githubusercontent.com/bionumpy/bionumpy/dev/example_data/chr21-22.chrom.sizes\n",
    "!wget https://raw.githubusercontent.com/bionumpy/bionumpy/dev/example_data/ctcf_chr21-22.bam\n",
    "!wget https://raw.githubusercontent.com/bionumpy/bionumpy/dev/example_data/chr21a22.gtf\n",
    "!wget https://raw.githubusercontent.com/bionumpy/bionumpy/dev/example_data/CTCF_chr21-22.wig.gz"
   ]
  },
  {
   "cell_type": "code",
   "execution_count": null,
   "outputs": [],
   "source": [
    "import plotly.express as px\n",
    "import numpy as np\n",
    "import bionumpy as bnp"
   ],
   "metadata": {
    "collapsed": false
   }
  },
  {
   "cell_type": "code",
   "execution_count": null,
   "outputs": [],
   "source": [
    "## Example 1: Getting a read pileup from a BAM-file\n",
    "# Reading a genome and reads from a bam file\n",
    "genome = bnp.Genome.from_file(\"chr21-22.chrom.sizes\")\n",
    "reads = genome.read_intervals(\"ctcf_chr21-22.bam\")\n",
    "print(reads)\n",
    "\n",
    "# Getting read pileup (stored efficiently as a RunLengthArray)\n",
    "pileup = reads.get_pileup()\n",
    "\n",
    "# We can index any region\n",
    "region = pileup[\"chr22\"][19970400:19970800]\n",
    "\n",
    "px.line(region.to_array()).show()"
   ],
   "metadata": {
    "collapsed": false
   }
  },
  {
   "cell_type": "code",
   "execution_count": null,
   "outputs": [],
   "source": [
    "## Example 2: Finding mean read pileup value around transcription start sites\n",
    "# Read genome, a wig read pileup and transcripts\n",
    "genome = bnp.Genome.from_file(\"chr21-22.chrom.sizes\", sort_names=True)\n",
    "track = genome.read_track(\"CTCF_chr21-22.wig.gz\", stream=True)\n",
    "annotation = genome.read_annotation(\"chr21a22.gtf\")\n",
    "transcripts = annotation.transcripts\n",
    "\n",
    "# Get transcript start locations and make windows around them\n",
    "tss = transcripts.get_location('start')\n",
    "windows = tss.get_windows(flank=500)\n",
    "\n",
    "# Get mean read pileup within these windows and plot\n",
    "signals = track[windows]\n",
    "mean_signal = signals.mean(axis=0)\n",
    "signal, = bnp.compute(mean_signal)\n",
    "signal = signal.to_array()\n",
    "\n",
    "px.line(x=np.arange(-500, 500), y=signal, title=\"Read pileup relative to TSS start\",\n",
    "        labels={\"x\": \"Position relative to TSS start\", \"y\": \"Mean read pileup\"}).show()"
   ],
   "metadata": {
    "collapsed": false
   }
  },
  {
   "cell_type": "code",
   "execution_count": null,
   "outputs": [],
   "source": [
    "## Example 3: Read pileup around CTCF peaks\n",
    "import matplotlib.pyplot as plt\n",
    "from bionumpy.io.delimited_buffers import NarrowPeakBuffer\n",
    "from bionumpy.genomic_data.genomic_intervals import LocationEntry\n",
    "\n",
    "# Read genome and peaks\n",
    "genome = bnp.Genome.from_file(\"chr21-22.chrom.sizes\")\n",
    "peaks = bnp.open(\"ctcf_chr21-22.bed.gz\", buffer_type=NarrowPeakBuffer).read()\n",
    "\n",
    "# Create locations of peaks summits\n",
    "location_entries = LocationEntry(peaks.chromosome, peaks.start + peaks.summit)\n",
    "summits = genome.get_locations(location_entries)\n",
    "\n",
    "# Create windows around summits and extract read pileup\n",
    "windows = summits.get_windows(flank=200)\n",
    "reads = genome.read_intervals(\"ctcf_chr21-22.bam\", stream=False, stranded=True)\n",
    "\n",
    "# Get mean pileup for reads with negative and positive strand\n",
    "means = [reads[reads.strand == strand].get_pileup()[windows].mean(axis=0)\n",
    "         for strand in '+-']\n",
    "pos_mean, neg_mean = bnp.compute(*means)\n",
    "plt.plot(np.arange(-200, 200), pos_mean.to_array())\n",
    "plt.plot(np.arange(-200, 200), neg_mean.to_array())\n",
    "plt.show()"
   ],
   "metadata": {
    "collapsed": false
   }
  },
  {
   "cell_type": "code",
   "execution_count": null,
   "outputs": [],
   "source": [
    "### Example 4: Read pileup relative to genomic variants\n",
    "# Read genome and variants\n",
    "genome = bnp.Genome.from_file(\"chr21-22.chrom.sizes\")\n",
    "variants = genome.read_locations(\"1000Genomes_chr21-22.vcf.gz\", has_numeric_chromosomes=True)\n",
    "\n",
    "# Get windows around variants and get read pileup in these windows\n",
    "flank = 100\n",
    "windows = variants.get_windows(flank=flank)\n",
    "reads = genome.read_intervals(\"CTCF_chr21-22.wig.gz\", stranded=True)\n",
    "track = reads.get_pileup()\n",
    "signals = track[windows]\n",
    "\n",
    "# Get mean signal inside these windows and plot\n",
    "mean_signal = signals.sum(axis=0)\n",
    "signal, = bnp.compute(mean_signal)\n",
    "signal = signal.to_array()\n",
    "plt.plot(np.arange(-flank, flank), signal)\n",
    "plt.show()"
   ],
   "metadata": {
    "collapsed": false
   }
  }
 ],
 "metadata": {
  "kernelspec": {
   "display_name": "Python 3",
   "language": "python",
   "name": "python3"
  },
  "language_info": {
   "codemirror_mode": {
    "name": "ipython",
    "version": 2
   },
   "file_extension": ".py",
   "mimetype": "text/x-python",
   "name": "python",
   "nbconvert_exporter": "python",
   "pygments_lexer": "ipython2",
   "version": "2.7.6"
  }
 },
 "nbformat": 4,
 "nbformat_minor": 0
}
