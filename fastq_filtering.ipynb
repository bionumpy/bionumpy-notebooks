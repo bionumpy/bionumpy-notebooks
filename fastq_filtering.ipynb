{
 "cells": [
  {
   "cell_type": "code",
   "execution_count": null,
   "outputs": [],
   "source": [
    "!wget https://github.com/bionumpy/bionumpy/raw/master/example_data/reads.fq.gz\n",
    "# Install BioNumPy\n",
    "!pip install bionumpy"
   ],
   "metadata": {
    "collapsed": false
   }
  },
  {
   "cell_type": "code",
   "execution_count": null,
   "outputs": [],
   "source": [
    "import bionumpy as bnp\n",
    "import numpy as np"
   ],
   "metadata": {
    "collapsed": false
   }
  },
  {
   "cell_type": "code",
   "execution_count": null,
   "outputs": [],
   "source": [
    "in_file = bnp.open(\"reads.fq.gz\")\n",
    "out_file = bnp.open(\"filtered.fq.gz\", \"w\")\n",
    "for chunk in in_file.read_chunks():\n",
    "    # Create a boolean mask with reads having avg qual > 15\n",
    "    keep = np.mean(chunk.quality, axis=1) > 10\n",
    "    # We can index the chunk with the boolean mask\n",
    "    out_file.write(chunk[keep])\n",
    "    print(\"Kept \", len(chunk[keep]), \" of \" , len(chunk), \" reads\")\n",
    "\n",
    "    # .. or, keep reads where minimum qual > 2\n",
    "    # keep = np.min(chunk.quality, axis=1) > 2\n"
   ],
   "metadata": {
    "collapsed": false
   }
  }
 ],
 "metadata": {
  "kernelspec": {
   "display_name": "Python 3",
   "language": "python",
   "name": "python3"
  },
  "language_info": {
   "codemirror_mode": {
    "name": "ipython",
    "version": 2
   },
   "file_extension": ".py",
   "mimetype": "text/x-python",
   "name": "python",
   "nbconvert_exporter": "python",
   "pygments_lexer": "ipython2",
   "version": "2.7.6"
  }
 },
 "nbformat": 4,
 "nbformat_minor": 0
}
