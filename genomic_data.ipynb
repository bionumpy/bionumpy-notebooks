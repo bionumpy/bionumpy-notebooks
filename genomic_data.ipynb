{
 "cells": [
  {
   "cell_type": "code",
   "execution_count": 1,
   "outputs": [
    {
     "name": "stdout",
     "output_type": "stream",
     "text": [
      "Requirement already satisfied: bionumpy in /usr/local/lib/python3.8/dist-packages (0.2.7)\r\n",
      "Requirement already satisfied: numpy>=1.19 in /usr/local/lib/python3.8/dist-packages (from bionumpy) (1.20.3)\r\n",
      "Requirement already satisfied: npstructures>=0.2.3 in /home/ivargry/dev/sync/npstructures (from bionumpy) (0.2.10)\r\n",
      "--2023-02-24 12:36:16--  https://raw.githubusercontent.com/bionumpy/bionumpy/dev/example_data/ctcf_chr21-22.bed.gz\r\n",
      "Resolving raw.githubusercontent.com (raw.githubusercontent.com)... 185.199.109.133, 185.199.111.133, 185.199.108.133, ...\r\n",
      "Connecting to raw.githubusercontent.com (raw.githubusercontent.com)|185.199.109.133|:443... connected.\r\n",
      "HTTP request sent, awaiting response... 200 OK\r\n",
      "Length: 25694 (25K) [application/octet-stream]\r\n",
      "Saving to: ‘ctcf_chr21-22.bed.gz.8’\r\n",
      "\r\n",
      "ctcf_chr21-22.bed.g 100%[===================>]  25.09K  --.-KB/s    in 0.006s  \r\n",
      "\r\n",
      "2023-02-24 12:36:17 (4.27 MB/s) - ‘ctcf_chr21-22.bed.gz.8’ saved [25694/25694]\r\n",
      "\r\n",
      "--2023-02-24 12:36:17--  https://raw.githubusercontent.com/bionumpy/bionumpy/dev/example_data/CTCF_chr21-22.wig.gz\r\n",
      "Resolving raw.githubusercontent.com (raw.githubusercontent.com)... 185.199.109.133, 185.199.111.133, 185.199.108.133, ...\r\n",
      "Connecting to raw.githubusercontent.com (raw.githubusercontent.com)|185.199.109.133|:443... connected.\r\n",
      "HTTP request sent, awaiting response... 200 OK\r\n",
      "Length: 5524800 (5.3M) [application/octet-stream]\r\n",
      "Saving to: ‘CTCF_chr21-22.wig.gz.6’\r\n",
      "\r\n",
      "CTCF_chr21-22.wig.g 100%[===================>]   5.27M  5.27MB/s    in 1.0s    \r\n",
      "\r\n",
      "2023-02-24 12:36:19 (5.27 MB/s) - ‘CTCF_chr21-22.wig.gz.6’ saved [5524800/5524800]\r\n",
      "\r\n",
      "--2023-02-24 12:36:19--  https://raw.githubusercontent.com/bionumpy/bionumpy/dev/example_data/chr21-22.chrom.sizes\r\n",
      "Resolving raw.githubusercontent.com (raw.githubusercontent.com)... 185.199.109.133, 185.199.111.133, 185.199.108.133, ...\r\n",
      "Connecting to raw.githubusercontent.com (raw.githubusercontent.com)|185.199.109.133|:443... connected.\r\n",
      "HTTP request sent, awaiting response... 200 OK\r\n",
      "Length: 29 [text/plain]\r\n",
      "Saving to: ‘chr21-22.chrom.sizes.3’\r\n",
      "\r\n",
      "chr21-22.chrom.size 100%[===================>]      29  --.-KB/s    in 0s      \r\n",
      "\r\n",
      "2023-02-24 12:36:20 (2.92 MB/s) - ‘chr21-22.chrom.sizes.3’ saved [29/29]\r\n",
      "\r\n",
      "--2023-02-24 12:36:20--  https://raw.githubusercontent.com/bionumpy/bionumpy/dev/example_data/ctcf_chr21-22.bam\r\n",
      "Resolving raw.githubusercontent.com (raw.githubusercontent.com)... 185.199.109.133, 185.199.111.133, 185.199.108.133, ...\r\n",
      "Connecting to raw.githubusercontent.com (raw.githubusercontent.com)|185.199.109.133|:443... connected.\r\n",
      "HTTP request sent, awaiting response... 200 OK\r\n",
      "Length: 2802650 (2.7M) [application/octet-stream]\r\n",
      "Saving to: ‘ctcf_chr21-22.bam.3’\r\n",
      "\r\n",
      "ctcf_chr21-22.bam.3 100%[===================>]   2.67M  4.77MB/s    in 0.6s    \r\n",
      "\r\n",
      "2023-02-24 12:36:21 (4.77 MB/s) - ‘ctcf_chr21-22.bam.3’ saved [2802650/2802650]\r\n",
      "\r\n",
      "--2023-02-24 12:36:21--  https://raw.githubusercontent.com/bionumpy/bionumpy/dev/example_data/chr21a22.gtf\r\n",
      "Resolving raw.githubusercontent.com (raw.githubusercontent.com)... 185.199.109.133, 185.199.111.133, 185.199.108.133, ...\r\n",
      "Connecting to raw.githubusercontent.com (raw.githubusercontent.com)|185.199.109.133|:443... connected.\r\n",
      "HTTP request sent, awaiting response... 200 OK\r\n",
      "Length: 49920926 (48M) [text/plain]\r\n",
      "Saving to: ‘chr21a22.gtf.9’\r\n",
      "\r\n",
      "chr21a22.gtf.9      100%[===================>]  47.61M  5.21MB/s    in 8.1s    \r\n",
      "\r\n",
      "2023-02-24 12:36:29 (5.89 MB/s) - ‘chr21a22.gtf.9’ saved [49920926/49920926]\r\n",
      "\r\n",
      "--2023-02-24 12:36:29--  https://raw.githubusercontent.com/bionumpy/bionumpy/dev/example_data/1000Genomes_chr21-22.vcf.gz\r\n",
      "Resolving raw.githubusercontent.com (raw.githubusercontent.com)... 185.199.108.133, 185.199.110.133, 185.199.111.133, ...\r\n",
      "Connecting to raw.githubusercontent.com (raw.githubusercontent.com)|185.199.108.133|:443... connected.\r\n",
      "HTTP request sent, awaiting response... 200 OK\r\n",
      "Length: 1899054 (1.8M) [application/octet-stream]\r\n",
      "Saving to: ‘1000Genomes_chr21-22.vcf.gz.1’\r\n",
      "\r\n",
      "1000Genomes_chr21-2 100%[===================>]   1.81M  9.96MB/s    in 0.2s    \r\n",
      "\r\n",
      "2023-02-24 12:36:30 (9.96 MB/s) - ‘1000Genomes_chr21-22.vcf.gz.1’ saved [1899054/1899054]\r\n",
      "\r\n"
     ]
    }
   ],
   "source": [
    "!pip install bionumpy\n",
    "!wget https://raw.githubusercontent.com/bionumpy/bionumpy/dev/example_data/ctcf_chr21-22.bed.gz\n",
    "!wget https://raw.githubusercontent.com/bionumpy/bionumpy/dev/example_data/CTCF_chr21-22.wig.gz\n",
    "!wget https://raw.githubusercontent.com/bionumpy/bionumpy/dev/example_data/chr21-22.chrom.sizes\n",
    "!wget https://raw.githubusercontent.com/bionumpy/bionumpy/dev/example_data/ctcf_chr21-22.bam\n",
    "!wget https://raw.githubusercontent.com/bionumpy/bionumpy/dev/example_data/chr21a22.gtf"
   ],
   "metadata": {
    "collapsed": false
   }
  },
  {
   "cell_type": "code",
   "execution_count": null,
   "outputs": [],
   "source": [
    "import plotly.express as px\n",
    "import numpy as np\n",
    "import bionumpy as bnp"
   ],
   "metadata": {
    "collapsed": false
   }
  },
  {
   "cell_type": "markdown",
   "source": [
    "## Example 1: Getting a read pileup from a BAM-file"
   ],
   "metadata": {
    "collapsed": false
   }
  },
  {
   "cell_type": "code",
   "execution_count": null,
   "outputs": [],
   "source": [
    "# Reading a genome and reads from a bam file\n",
    "genome = bnp.Genome.from_file(\"chr21-22.chrom.sizes\")\n",
    "reads = genome.read_intervals(\"ctcf_chr21-22.bam\")\n",
    "print(reads)\n",
    "\n",
    "# Getting read pileup (stored efficiently as a RunLengthArray)\n",
    "pileup = reads.get_pileup()\n",
    "\n",
    "# We can index any region\n",
    "region = pileup[\"chr22\"][19970400:19970800]\n",
    "\n",
    "px.line(region.to_array()).show()"
   ],
   "metadata": {
    "collapsed": false
   }
  },
  {
   "cell_type": "markdown",
   "source": [
    "## Example 2: Finding mean read pileup value around transcription start sites"
   ],
   "metadata": {
    "collapsed": false
   }
  },
  {
   "cell_type": "code",
   "execution_count": null,
   "outputs": [],
   "source": [
    "# Read genome, a wig read pileup and transcripts\n",
    "genome = bnp.Genome.from_file(\"chr21-22.chrom.sizes\", sort_names=True)\n",
    "track = genome.read_track(\"CTCF_chr21-22.wig.gz\", stream=True)\n",
    "annotation = genome.read_annotation(\"chr21a22.gtf\")\n",
    "transcripts = annotation.transcripts\n",
    "\n",
    "# Get transcript start locations and make windows around them\n",
    "tss = transcripts.get_location('start')\n",
    "windows = tss.get_windows(flank=500)\n",
    "\n",
    "# Get mean read pileup within these windows and plot\n",
    "signals = track[windows]\n",
    "mean_signal = signals.mean(axis=0)\n",
    "signal, = bnp.compute(mean_signal)\n",
    "signal = signal.to_array()\n",
    "\n",
    "px.line(x=np.arange(-500, 500), y=signal, title=\"Read pileup relative to TSS start\",\n",
    "        labels={\"x\": \"Position relative to TSS start\", \"y\": \"Mean read pileup\"}).show()"
   ],
   "metadata": {
    "collapsed": false
   }
  },
  {
   "cell_type": "markdown",
   "source": [],
   "metadata": {
    "collapsed": false
   }
  },
  {
   "cell_type": "code",
   "execution_count": null,
   "outputs": [],
   "source": [],
   "metadata": {
    "collapsed": false
   }
  },
  {
   "cell_type": "markdown",
   "source": [],
   "metadata": {
    "collapsed": false
   }
  }
 ],
 "metadata": {
  "kernelspec": {
   "display_name": "Python 3",
   "language": "python",
   "name": "python3"
  },
  "language_info": {
   "codemirror_mode": {
    "name": "ipython",
    "version": 2
   },
   "file_extension": ".py",
   "mimetype": "text/x-python",
   "name": "python",
   "nbconvert_exporter": "python",
   "pygments_lexer": "ipython2",
   "version": "2.7.6"
  }
 },
 "nbformat": 4,
 "nbformat_minor": 0
}
