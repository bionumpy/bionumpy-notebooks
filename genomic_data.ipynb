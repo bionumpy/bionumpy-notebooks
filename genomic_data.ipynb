{
 "cells": [
  {
   "cell_type": "code",
   "execution_count": null,
   "outputs": [],
   "source": [
    "!pip install bionumpy\n",
    "!wget https://raw.githubusercontent.com/bionumpy/bionumpy/dev/example_data/ctcf_chr21-22.bed.gz\n",
    "!wget https://raw.githubusercontent.com/bionumpy/bionumpy/dev/example_data/CTCF_chr21-22.wig.gz\n",
    "!wget https://raw.githubusercontent.com/bionumpy/bionumpy/dev/example_data/chr21-22.chrom.sizes\n",
    "!wget https://raw.githubusercontent.com/bionumpy/bionumpy/dev/example_data/ctcf_chr21-22.bam\n",
    "!wget https://raw.githubusercontent.com/bionumpy/bionumpy/dev/example_data/chr21a22.gtf"
   ],
   "metadata": {
    "collapsed": false
   }
  },
  {
   "cell_type": "code",
   "execution_count": null,
   "outputs": [],
   "source": [
    "import plotly.express as px\n",
    "import numpy as np\n",
    "import bionumpy as bnp"
   ],
   "metadata": {
    "collapsed": false
   }
  },
  {
   "cell_type": "markdown",
   "source": [
    "## Example 1: Getting a read pileup from a BAM-file"
   ],
   "metadata": {
    "collapsed": false
   }
  },
  {
   "cell_type": "code",
   "execution_count": null,
   "outputs": [],
   "source": [
    "# Reading a genome and reads from a bam file\n",
    "genome = bnp.Genome.from_file(\"chr21-22.chrom.sizes\")\n",
    "reads = genome.read_intervals(\"ctcf_chr21-22.bam\")\n",
    "print(reads)\n",
    "\n",
    "# Getting read pileup (stored efficiently as a RunLengthArray)\n",
    "pileup = reads.get_pileup()\n",
    "\n",
    "# We can index any region\n",
    "region = pileup[\"chr22\"][19970400:19970800]\n",
    "\n",
    "px.line(region.to_array()).show()"
   ],
   "metadata": {
    "collapsed": false
   }
  },
  {
   "cell_type": "markdown",
   "source": [
    "## Example 2: Finding mean read pileup value around transcription start sites"
   ],
   "metadata": {
    "collapsed": false
   }
  },
  {
   "cell_type": "code",
   "execution_count": null,
   "outputs": [],
   "source": [
    "# Read genome, a wig read pileup and transcripts\n",
    "genome = bnp.Genome.from_file(\"chr21-22.chrom.sizes\", sort_names=True)\n",
    "track = genome.read_track(\"CTCF_chr21-22.wig.gz\", stream=True)\n",
    "annotation = genome.read_annotation(\"chr21a22.gtf\")\n",
    "transcripts = annotation.transcripts\n",
    "\n",
    "# Get transcript start locations and make windows around them\n",
    "tss = transcripts.get_location('start')\n",
    "windows = tss.get_windows(flank=500)\n",
    "\n",
    "# Get mean read pileup within these windows and plot\n",
    "signals = track[windows]\n",
    "mean_signal = signals.mean(axis=0)\n",
    "signal, = bnp.compute(mean_signal)\n",
    "signal = signal.to_array()\n",
    "\n",
    "px.line(x=np.arange(-500, 500), y=signal, title=\"Read pileup relative to TSS start\",\n",
    "        labels={\"x\": \"Position relative to TSS start\", \"y\": \"Mean read pileup\"}).show()"
   ],
   "metadata": {
    "collapsed": false
   }
  },
  {
   "cell_type": "markdown",
   "source": [],
   "metadata": {
    "collapsed": false
   }
  },
  {
   "cell_type": "code",
   "execution_count": null,
   "outputs": [],
   "source": [],
   "metadata": {
    "collapsed": false
   }
  },
  {
   "cell_type": "markdown",
   "source": [],
   "metadata": {
    "collapsed": false
   }
  }
 ],
 "metadata": {
  "kernelspec": {
   "display_name": "Python 3",
   "language": "python",
   "name": "python3"
  },
  "language_info": {
   "codemirror_mode": {
    "name": "ipython",
    "version": 2
   },
   "file_extension": ".py",
   "mimetype": "text/x-python",
   "name": "python",
   "nbconvert_exporter": "python",
   "pygments_lexer": "ipython2",
   "version": "2.7.6"
  }
 },
 "nbformat": 4,
 "nbformat_minor": 0
}
