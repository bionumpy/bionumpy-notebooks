{
 "cells": [
  {
   "cell_type": "markdown",
   "source": [
    "We start by fetching chrom sizes, some peaks and some aligned reads:"
   ],
   "metadata": {
    "collapsed": false
   }
  },
  {
   "cell_type": "code",
   "execution_count": null,
   "outputs": [],
   "source": [
    "!pip install bionumpy\n",
    "!wget https://hgdownload.cse.ucsc.edu/goldenpath/hg38/bigZips/hg38.chrom.sizes\n",
    "!wget -O - https://www.encodeproject.org/files/ENCFF843VHC/@@download/ENCFF843VHC.bed.gz | zcat | sort -k 1,1 -k2,2n > peaks.bed\n",
    "!wget -O aligned_reads.bam https://www.encodeproject.org/files/ENCFF494VZW/@@download/ENCFF494VZW.bam"
   ],
   "metadata": {
    "collapsed": false
   }
  },
  {
   "cell_type": "markdown",
   "source": [
    "Reading a bed file is simple with BioNumPy. All data is stored in NumPy arrays, so e.g. getting average peak length is efficient and as simple as:"
   ],
   "metadata": {
    "collapsed": false
   }
  },
  {
   "cell_type": "code",
   "execution_count": null,
   "outputs": [],
   "source": [
    "import bionumpy as bnp\n",
    "import numpy as np\n",
    "genome = bnp.Genome.from_file(\"hg38.chrom.sizes\")\n",
    "peaks = genome.read_intervals(\"peaks.bed\")\n",
    "print(np.mean(peaks.stop-peaks.start))"
   ],
   "metadata": {
    "collapsed": false
   }
  },
  {
   "cell_type": "markdown",
   "source": [
    "In the newest version of BioNumPy we have added a very simple way of dealing with large file that don't fit into memory. These can be \"streamed\" by adding stream=True. BioNumPy will then only read one chromosome at a time and handle all the complex stuff for you:"
   ],
   "metadata": {
    "collapsed": false
   }
  },
  {
   "cell_type": "code",
   "execution_count": null,
   "outputs": [],
   "source": [
    "# Read peaks and alignments in \"stream\" mode\n",
    "# This means BioNumPy will not read anything into memory\n",
    "# before we call compute in the end\n",
    "peaks = genome.read_intervals(\"peaks.bed\", stream=True)\n",
    "alignments = genome.read_intervals(\"aligned_reads.bam\")\n",
    "\n",
    "# Create a pileup of the alignments\n",
    "alignment_pileup = alignments.get_pileup()\n",
    "\n",
    "# fetching pileup values inside peaks\n",
    "peaks_pileup = peaks[alignment_pileup]"
   ],
   "metadata": {
    "collapsed": false
   }
  }
 ],
 "metadata": {
  "kernelspec": {
   "display_name": "Python 3",
   "language": "python",
   "name": "python3"
  },
  "language_info": {
   "codemirror_mode": {
    "name": "ipython",
    "version": 2
   },
   "file_extension": ".py",
   "mimetype": "text/x-python",
   "name": "python",
   "nbconvert_exporter": "python",
   "pygments_lexer": "ipython2",
   "version": "2.7.6"
  }
 },
 "nbformat": 4,
 "nbformat_minor": 0
}
