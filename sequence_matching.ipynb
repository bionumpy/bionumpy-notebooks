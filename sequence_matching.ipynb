{
 "cells": [
  {
   "cell_type": "code",
   "execution_count": null,
   "outputs": [],
   "source": [
    "!wget https://github.com/bionumpy/bionumpy/raw/master/example_data/reads.fq.gz\n",
    "# Install BioNumPy\n",
    "!pip install bionumpy"
   ],
   "metadata": {
    "collapsed": false
   }
  },
  {
   "cell_type": "code",
   "execution_count": null,
   "outputs": [],
   "source": [
    "import bionumpy as bnp\n",
    "import numpy as np\n",
    "import plotly.express as px"
   ],
   "metadata": {
    "collapsed": false
   }
  },
  {
   "cell_type": "code",
   "execution_count": null,
   "outputs": [],
   "source": [
    "reads = bnp.open(\"reads.fq.gz\").read()\n",
    "matches = bnp.sequence.match_string(reads.sequence, \"AC\")\n",
    "# matches is a boolean RaggedArray, so we can sum over the rows to get\n",
    "# number of matches for each read, e.g:\n",
    "# matches_per_read = np.sum(matches, axis=1)\n",
    "\n",
    "# .. or take a mean over the columns to see where the matches typically are\n",
    "matches_per_base = np.mean(matches, axis=0)\n",
    "fig = px.line(matches_per_base[0:150])  # plot first 150 bases\n",
    "fig.show()"
   ],
   "metadata": {
    "collapsed": false
   }
  },
  {
   "cell_type": "code",
   "execution_count": null,
   "outputs": [],
   "source": [],
   "metadata": {
    "collapsed": false
   }
  }
 ],
 "metadata": {
  "kernelspec": {
   "display_name": "Python 3",
   "language": "python",
   "name": "python3"
  },
  "language_info": {
   "codemirror_mode": {
    "name": "ipython",
    "version": 2
   },
   "file_extension": ".py",
   "mimetype": "text/x-python",
   "name": "python",
   "nbconvert_exporter": "python",
   "pygments_lexer": "ipython2",
   "version": "2.7.6"
  }
 },
 "nbformat": 4,
 "nbformat_minor": 0
}
