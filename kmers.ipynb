{
 "cells": [
  {
   "cell_type": "markdown",
   "source": [
    "This example shows how you get and analyse kmers from reads using BioNumPy. We start by downloading some reads:"
   ],
   "metadata": {
    "collapsed": false
   }
  },
  {
   "cell_type": "code",
   "execution_count": null,
   "outputs": [],
   "source": [
    "!curl https://github.com/bionumpy/bionumpy/raw/master/example_data/big.fq.gz --create-dirs -o example_data/big.fq.gz"
   ],
   "metadata": {
    "collapsed": false
   }
  },
  {
   "cell_type": "code",
   "execution_count": null,
   "outputs": [],
   "source": [
    "import numpy as np\n",
    "import bionumpy as bnp\n",
    "\n",
    "reads = bnp.open(\"example_data/reads.fq.gz\").read_chunk()\n",
    "# Change encoding for ultra-fast kmer-hashing\n",
    "sequences = bnp.change_encoding(reads.sequence, bnp.DNAEncoding)\n",
    "kmers = bnp.get_kmers(sequences, 5)\n",
    "# kmers is now a RaggedArray that can be indexed\n",
    "first_kmer_in_each_read = kmers[:, 0]\n",
    "print(first_kmer_in_each_read)\n",
    "all_kmers_as_np_array = kmers.raw()\n",
    "print(all_kmers_as_np_array)"
   ],
   "metadata": {
    "collapsed": false
   }
  }
 ],
 "metadata": {
  "kernelspec": {
   "display_name": "Python 3",
   "language": "python",
   "name": "python3"
  },
  "language_info": {
   "codemirror_mode": {
    "name": "ipython",
    "version": 2
   },
   "file_extension": ".py",
   "mimetype": "text/x-python",
   "name": "python",
   "nbconvert_exporter": "python",
   "pygments_lexer": "ipython2",
   "version": "2.7.6"
  }
 },
 "nbformat": 4,
 "nbformat_minor": 0
}
