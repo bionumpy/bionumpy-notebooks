{
 "cells": [
  {
   "cell_type": "markdown",
   "source": [
    "This example shows how you get and analyse kmers from reads using BioNumPy. We start by downloading some reads:"
   ],
   "metadata": {
    "collapsed": false
   }
  },
  {
   "cell_type": "code",
   "execution_count": null,
   "outputs": [],
   "source": [
    "!wget -O reads.fq.gz https://github.com/bionumpy/bionumpy/raw/master/example_data/big.fq.gz\n",
    "# Install BioNumPy\n",
    "!pip install bionumpy"
   ],
   "metadata": {
    "collapsed": false
   }
  },
  {
   "cell_type": "code",
   "execution_count": null,
   "outputs": [],
   "source": [
    "import bionumpy as bnp\n",
    "import numpy as np\n",
    "import plotly.express as px"
   ],
   "metadata": {
    "collapsed": false
   }
  },
  {
   "cell_type": "code",
   "execution_count": null,
   "outputs": [],
   "source": [
    "reads = bnp.open(\"reads.fq.gz\").read_chunk()\n",
    "# Change encoding for ultra-fast kmer-hashing\n",
    "kmers = bnp.get_kmers(reads.sequence, 5)\n",
    "# kmers is now a RaggedArray that can be indexed\n",
    "first_kmer_in_each_read = kmers[:, 0]\n",
    "print(first_kmer_in_each_read)\n",
    "\n",
    "# Get the most frequent kmers\n",
    "counts = bnp.sequence.count_encoded(kmers, axis=None)\n",
    "sorting = np.argsort(counts.counts)[0:10]\n",
    "\n",
    "top_kmers = np.array(counts.alphabet)[sorting]\n",
    "top_counts = counts.counts[sorting]\n",
    "\n",
    "fig = px.bar(x=top_kmers, y=top_counts)\n",
    "fig.show()\n",
    "\n"
   ],
   "metadata": {
    "collapsed": false
   }
  },
  {
   "cell_type": "code",
   "execution_count": null,
   "outputs": [],
   "source": [],
   "metadata": {
    "collapsed": false
   }
  }
 ],
 "metadata": {
  "kernelspec": {
   "display_name": "Python 3",
   "language": "python",
   "name": "python3"
  },
  "language_info": {
   "codemirror_mode": {
    "name": "ipython",
    "version": 2
   },
   "file_extension": ".py",
   "mimetype": "text/x-python",
   "name": "python",
   "nbconvert_exporter": "python",
   "pygments_lexer": "ipython2",
   "version": "2.7.6"
  }
 },
 "nbformat": 4,
 "nbformat_minor": 0
}
